{
 "cells": [
  {
   "cell_type": "markdown",
   "metadata": {
    "id": "A1F4099BCD1C49E98FAA3813871DB38A"
   },
   "source": [
    "![Spark Logo](http://curriculum-release.s3-website-us-west-2.amazonaws.com/wiki-book/general/logo_spark.png)\n\n## Desktop vs Mobile\n\n**Objective:**\nAnalyze Desktop vs Mobile traffic to English Wikipedia\n\n**Data Source:**\npageviews_by_second ([255 MB](http://datahub.io/en/dataset/english-wikipedia-pageviews-by-second))\n\n**Business Questions:**\n\n* Question # 1) How many total incoming requests were to the mobile site vs the desktop site?\n* Question # 2) What is the start and end range of time for the pageviews data? How many days of data is in the DataFrame?\n* Question # 3) What is the avg/min/max for the number of requests received for Mobile and Desktop views?\n* Question # 4) Which day of the week does Wikipedia get the most traffic?\n* Question # 5) Can you visualize both the mobile and desktop site requests in a line chart to compare traffic between both sites by day of the week?\n* Question # 6) Why is there so much more traffic on Monday vs. other days of the week?\n\n**Technical Accomplishments:**\n- Give a DataFrame a human-readable name when caching\n- Cast a String col type into a Timestamp col type\n- Browse the Spark SQL API docs\n- Learn how to use \"Date time functions\"\n- Create and use a User Defined Function (UDF)\n- Join 2 DataFrames\n- Visualization"
   ]
  },
  {
   "cell_type": "markdown",
   "metadata": {
    "id": "363C05E2ADFB4D1D8F0D47341708509D"
   },
   "source": [
    "Lets load our file into a SparkRead Dataframe\nBut what about our schema?  \nNotice the \"header\" option"
   ]
  },
  {
   "cell_type": "code",
   "execution_count": null,
   "metadata": {
    "trusted": true,
    "input_collapsed": false,
    "collapsed": false,
    "id": "17EB595E2115468E9CA9B48947F7233E"
   },
   "outputs": [],
   "source": [
    "val pageviews = sparkSession.read.format(\"com.databricks.spark.csv\")\n",
    "  .option(\"header\", \"true\")\n",
    "  .option(\"delimiter\", \"\\t\")\n",
    "  .load(\"data/pageviews-by-second-tsv\")"
   ]
  },
  {
   "cell_type": "markdown",
   "metadata": {
    "id": "BF5FD56EB38A4EF698F207A7FC86C0A9"
   },
   "source": [
    "First, lets take a peap at our data"
   ]
  },
  {
   "cell_type": "code",
   "execution_count": null,
   "metadata": {
    "trusted": true,
    "input_collapsed": false,
    "collapsed": false,
    "id": "EF2BF70677E344568E2125A1332496C6"
   },
   "outputs": [],
   "source": [
    "pageviews.limit(10)"
   ]
  },
  {
   "cell_type": "markdown",
   "metadata": {
    "id": "CDC61E9E08CE4F0E8E8AB089381AFED2"
   },
   "source": [
    "So we got the column names, but it seems everything is defined as string. Lets take a look"
   ]
  },
  {
   "cell_type": "code",
   "execution_count": null,
   "metadata": {
    "trusted": true,
    "input_collapsed": false,
    "collapsed": false,
    "id": "978DC10A936945639CFAA64878143E7D"
   },
   "outputs": [],
   "source": [
    "pageviews.printSchema()"
   ]
  },
  {
   "cell_type": "markdown",
   "metadata": {
    "id": "D819EEC69D7443C9870BD95B17D2D5D2"
   },
   "source": [
    "Requests as we know (and need) is defentlly not a string so lets define it as a long type and cache our DataFrame into memory"
   ]
  },
  {
   "cell_type": "code",
   "execution_count": null,
   "metadata": {
    "trusted": true,
    "input_collapsed": false,
    "collapsed": false,
    "id": "6B92935B056A45F7B01BDE2115500E90"
   },
   "outputs": [],
   "source": [
    "val pageviewsDF = pageviews.select($\"timestamp\", $\"site\", $\"requests\".cast(\"long\").alias(\"requests\"))"
   ]
  },
  {
   "cell_type": "markdown",
   "metadata": {
    "id": "3061014A4808458D8C905F8D533C1756"
   },
   "source": [
    "Register the Temporary Table to give the DataFrame a human-readable name in the Storage UI"
   ]
  },
  {
   "cell_type": "code",
   "execution_count": null,
   "metadata": {
    "trusted": true,
    "input_collapsed": false,
    "collapsed": false,
    "id": "6584EA07460E4784AC0D399ADD29BE5B"
   },
   "outputs": [],
   "source": [
    "pageviewsDF.createOrReplaceTempView(\"pageviews_by_second\")"
   ]
  },
  {
   "cell_type": "markdown",
   "metadata": {
    "id": "0251A2CE94FB4AE08AEC82C24B838279"
   },
   "source": [
    "Lets cache our dataframe and Materialize the cache with a count() action"
   ]
  },
  {
   "cell_type": "code",
   "execution_count": null,
   "metadata": {
    "trusted": true,
    "input_collapsed": false,
    "collapsed": false,
    "id": "81D39AC4918549F8B9F771BBD2B4EB56"
   },
   "outputs": [],
   "source": [
    "pageviewsDF.cache()\n",
    "pageviewsDF.count()"
   ]
  },
  {
   "cell_type": "markdown",
   "metadata": {
    "id": "AAA436A1333A45BE9065E9BB515EB337"
   },
   "source": [
    "Verify that the DataFrame is indeed in memory by running a count again"
   ]
  },
  {
   "cell_type": "code",
   "execution_count": null,
   "metadata": {
    "trusted": true,
    "input_collapsed": false,
    "collapsed": false,
    "id": "3742EC89175A46678CD2EF4CD53403F7"
   },
   "outputs": [],
   "source": [
    "// This should run in less than a second\n",
    "pageviewsDF.count()"
   ]
  },
  {
   "cell_type": "markdown",
   "metadata": {
    "id": "7341A4D865674A46B28EA1F5FE8D2B03"
   },
   "source": [
    "### How many total incoming requests were to the mobile site vs the desktop site?"
   ]
  },
  {
   "cell_type": "markdown",
   "metadata": {
    "id": "0D877AE0D6C649099608E0A00EF4C2EB"
   },
   "source": [
    "First, let's sum up the requests column to see how many total requests are in the dataset"
   ]
  },
  {
   "cell_type": "code",
   "execution_count": null,
   "metadata": {
    "trusted": true,
    "input_collapsed": false,
    "collapsed": false,
    "id": "0BE001ED8B44476EA6EB5FD5785DD9AE"
   },
   "outputs": [],
   "source": [
    "pageviewsDF.select(sum(\"requests\"))"
   ]
  },
  {
   "cell_type": "markdown",
   "metadata": {
    "id": "7756AAE6C8B14A7A8BE6692BCC954297"
   },
   "source": [
    "But how many of the requests were for the mobile site?"
   ]
  },
  {
   "cell_type": "markdown",
   "metadata": {
    "id": "5948CBF25C1448048E4156B4EC3DB355"
   },
   "source": [
    "***Challenge 1:*** Using just the commands we learned so far, can you figure out how to filter the DataFrame for just mobile traffic and then sum the requests column?"
   ]
  },
  {
   "cell_type": "code",
   "execution_count": null,
   "metadata": {
    "trusted": true,
    "input_collapsed": false,
    "collapsed": false,
    "id": "15E946FB75F84AD7831D2CABCE7017A8"
   },
   "outputs": [],
   "source": [
    "// Type in your answer here..."
   ]
  },
  {
   "cell_type": "code",
   "execution_count": null,
   "metadata": {
    "trusted": true,
    "input_collapsed": false,
    "collapsed": false,
    "id": "632EE669904E4E78A549192FFBD3B376"
   },
   "outputs": [],
   "source": [
    "pageviewsDF.filter(\"site == 'mobile'\").select(sum($\"requests\"))"
   ]
  },
  {
   "cell_type": "markdown",
   "metadata": {
    "id": "041E8A5889834EB7879FC872CAA65271"
   },
   "source": [
    "***Challenge 2***: What about the desktop site? How many requests did it get?"
   ]
  },
  {
   "cell_type": "code",
   "execution_count": null,
   "metadata": {
    "trusted": true,
    "input_collapsed": false,
    "collapsed": false,
    "id": "5419CF879BCA46068010607065079FD3"
   },
   "outputs": [],
   "source": [
    "// Type in your answer here..."
   ]
  },
  {
   "cell_type": "code",
   "execution_count": null,
   "metadata": {
    "trusted": true,
    "input_collapsed": false,
    "collapsed": false,
    "id": "6EC89DCF53AD43CB87A6852C714D7EC6"
   },
   "outputs": [],
   "source": [
    "pageviewsDF.filter(\"site == 'desktop'\").select(sum(\"requests\"))"
   ]
  },
  {
   "cell_type": "markdown",
   "metadata": {
    "id": "A1752F00EE7E48B6BAC2726B648DF3FC"
   },
   "source": [
    "So, about twice as many were for the desktop site"
   ]
  },
  {
   "cell_type": "markdown",
   "metadata": {
    "id": "9F644BCBA6E044EEA9233ED93DA42737"
   },
   "source": [
    "### What is the start and end range of time for the pageviews data? How many days of data is in the DataFrame?"
   ]
  },
  {
   "cell_type": "markdown",
   "metadata": {
    "id": "452FC232DDE242D7832EB7FA2196C371"
   },
   "source": [
    "To answer this, we should first convert the timestamp column from a String type to a Timestamp type. Currently the first column of pageviewsDF is typed as a string"
   ]
  },
  {
   "cell_type": "code",
   "execution_count": null,
   "metadata": {
    "trusted": true,
    "input_collapsed": false,
    "collapsed": false,
    "id": "14DC33EA5CCD426BA26AAA27C1847676"
   },
   "outputs": [],
   "source": [
    "pageviewsDF.printSchema()"
   ]
  },
  {
   "cell_type": "markdown",
   "metadata": {
    "id": "8CC8C2692A444FF792F7A0D768EBD5BB"
   },
   "source": [
    "Create a new DataFrame, pageviewsOrderedByTimestampDF, that changes the timestamp column from a string data type to a timestamp data type"
   ]
  },
  {
   "cell_type": "code",
   "execution_count": null,
   "metadata": {
    "trusted": true,
    "input_collapsed": false,
    "collapsed": false,
    "id": "AF40ECA7AC4C4F02825BD6CC35292EEF"
   },
   "outputs": [],
   "source": [
    "val pageviewsTimestampDF = pageviewsDF.select($\"timestamp\".cast(\"timestamp\").alias(\"timestamp\"), $\"site\", $\"requests\")"
   ]
  },
  {
   "cell_type": "code",
   "execution_count": null,
   "metadata": {
    "trusted": true,
    "input_collapsed": false,
    "collapsed": false,
    "id": "FAE36A83555347DF9428240836FE3E68"
   },
   "outputs": [],
   "source": [
    "pageviewsTimestampDF.printSchema()"
   ]
  },
  {
   "cell_type": "markdown",
   "metadata": {
    "id": "FC11A4C29DD44CA49A3AA0C3C4C0BC2B"
   },
   "source": [
    "How many different years is the data from?"
   ]
  },
  {
   "cell_type": "markdown",
   "metadata": {
    "id": "EF36DA9D15774B6B83E47182FE1C8356"
   },
   "source": [
    "For the next command, we'll use year(), one of the date time function available in Spark. You can review which functions are available for DataFrames in the Spark API doc's SQL functions, under \"Date time functions\"."
   ]
  },
  {
   "cell_type": "code",
   "execution_count": null,
   "metadata": {
    "trusted": true,
    "input_collapsed": false,
    "collapsed": false,
    "id": "435078AE026E49BAA8273D881E1E3A18"
   },
   "outputs": [],
   "source": [
    "pageviewsTimestampDF.select(year($\"timestamp\")).distinct()"
   ]
  },
  {
   "cell_type": "markdown",
   "metadata": {
    "id": "53977D08FB3346F580845B865AF746EB"
   },
   "source": [
    "The data only spans 2015. But which months?"
   ]
  },
  {
   "cell_type": "markdown",
   "metadata": {
    "id": "E4E785D9D5E640358B3CF143177809C4"
   },
   "source": [
    "***Challenge 3:*** Can you figure out how to check which months of 2015 the data covers (using the [Spark API docs](https://spark.apache.org/docs/latest/api/python/index.html#org.apache.spark.sql.functions$))?"
   ]
  },
  {
   "cell_type": "code",
   "execution_count": null,
   "metadata": {
    "trusted": true,
    "input_collapsed": false,
    "collapsed": false,
    "id": "2CA21DEED711466F916FA33462B41C66"
   },
   "outputs": [],
   "source": [
    "// Type in your answer here..."
   ]
  },
  {
   "cell_type": "code",
   "execution_count": null,
   "metadata": {
    "trusted": true,
    "input_collapsed": false,
    "collapsed": false,
    "id": "44BE58D974FA4BCD9BBF0D963EACFC5C"
   },
   "outputs": [],
   "source": [
    "pageviewsTimestampDF.select(month($\"timestamp\")).distinct()"
   ]
  },
  {
   "cell_type": "markdown",
   "metadata": {
    "id": "41B17E348EB4489E9EAF622DF71EB45F"
   },
   "source": [
    "The data covers the months you see above."
   ]
  },
  {
   "cell_type": "markdown",
   "metadata": {
    "id": "B8ED4E5FBD8E48A6B87E7D040EEDB0A8"
   },
   "source": [
    "Similarly, you can discover how many weeks of timestamps are in the data and how many days of data there is:"
   ]
  },
  {
   "cell_type": "code",
   "execution_count": null,
   "metadata": {
    "trusted": true,
    "input_collapsed": false,
    "collapsed": false,
    "id": "466FE4E356BE450A8AEE5A6A7688DD78"
   },
   "outputs": [],
   "source": [
    "// How many weeks of data is there?\n",
    "pageviewsTimestampDF.select(weekofyear($\"timestamp\")).distinct()"
   ]
  },
  {
   "cell_type": "code",
   "execution_count": null,
   "metadata": {
    "trusted": true,
    "input_collapsed": false,
    "collapsed": false,
    "id": "A3D3A2D93B1844C5A0C209D548D99495"
   },
   "outputs": [],
   "source": [
    "// How many days of data is there?\n",
    "pageviewsTimestampDF.select(dayofyear($\"timestamp\")).distinct().count()"
   ]
  },
  {
   "cell_type": "markdown",
   "metadata": {
    "id": "2C75EA06A3D04B168F17BB268310253E"
   },
   "source": [
    "There is 41 days of data."
   ]
  },
  {
   "cell_type": "markdown",
   "metadata": {
    "id": "50135199BAAA42A984C114140512C65C"
   },
   "source": [
    "### What is the avg/min/max for the number of requests received for Mobile and Desktop views?"
   ]
  },
  {
   "cell_type": "markdown",
   "metadata": {
    "id": "C073211FBD1149BB84C4BF10BA660B4E"
   },
   "source": [
    "To understand our data better, let's look at the average, minimum and maximum number of requests received for mobile, then desktop page views over every 1 second interval:"
   ]
  },
  {
   "cell_type": "code",
   "execution_count": null,
   "metadata": {
    "trusted": true,
    "input_collapsed": false,
    "collapsed": false,
    "id": "9E86D38CE05D4BAEB3B872DFCF58D987"
   },
   "outputs": [],
   "source": [
    "// Look at mobile statistics\n",
    "pageviewsTimestampDF.filter(\"site = 'mobile'\").select(avg(\"requests\"), min(\"requests\"), max(\"requests\"))"
   ]
  },
  {
   "cell_type": "code",
   "execution_count": null,
   "metadata": {
    "trusted": true,
    "input_collapsed": false,
    "collapsed": false,
    "id": "07AC4AE57C794A41A00DEBFFFC563C28"
   },
   "outputs": [],
   "source": [
    "// Look at desktop statistics\n",
    "pageviewsTimestampDF.filter(\"site = 'desktop'\").select(avg(\"requests\"), min(\"requests\"), max(\"requests\"))"
   ]
  },
  {
   "cell_type": "markdown",
   "metadata": {
    "id": "ECA46E39B3B44968988C88100BF7764C"
   },
   "source": [
    "There certainly appears to be more requests for the desktop site."
   ]
  },
  {
   "cell_type": "markdown",
   "metadata": {
    "id": "2CCED1DF7A1B49989FDADDA30B64B210"
   },
   "source": [
    "### Which day of the week does Wikipedia get the most traffic?"
   ]
  },
  {
   "cell_type": "markdown",
   "metadata": {
    "id": "848B3D48E1294C438544BB03ADC0BA54"
   },
   "source": [
    "Think about how we can accomplish this. We need to pull out the day of the week (like Mon, Tues, etc) from each row, and then sum up all of the requests by day."
   ]
  },
  {
   "cell_type": "markdown",
   "metadata": {
    "id": "8C07D1B807D041CBAE70E898965CCFC2"
   },
   "source": [
    "First, use the date_format function to extract out the day of the week from the timestamp and rename the column as \"Day of week\".\nThen we'll sum up all of the requests for each day and show the results."
   ]
  },
  {
   "cell_type": "code",
   "execution_count": null,
   "metadata": {
    "trusted": true,
    "input_collapsed": false,
    "collapsed": false,
    "id": "4A520D9E4EE74B788F469C2C5EB0EE03"
   },
   "outputs": [],
   "source": [
    "// Notice the use of alias() to rename the new column\n",
    "// \"E\" is a pattern in the SimpleDataFormat class in Java that extracts out the \"Day in Week\"\"\n",
    "\n",
    "// Create a new DataFrame named pageviewsByDayOfWeekDF and cache it\n",
    "val pageviewsByDayOfWeekDF = pageviewsTimestampDF.groupBy(date_format(($\"timestamp\"), \"E\").alias(\"Day_of_week\")).sum()\n",
    "\n",
    "// Cache the DataFrame with a human-readable name\n",
    "pageviewsByDayOfWeekDF.createOrReplaceTempView(\"pageviews_by_DOW\")\n",
    "// spark.cacheTable(\"pageviews_by_DOW\")\n",
    "pageviewsByDayOfWeekDF.cache()\n",
    "\n",
    "// Show what is in the new DataFrame\n",
    "pageviewsByDayOfWeekDF"
   ]
  },
  {
   "cell_type": "code",
   "execution_count": null,
   "metadata": {
    "trusted": true,
    "input_collapsed": false,
    "collapsed": false,
    "id": "D0A282BD4DB04202822CD394F4761B8A"
   },
   "outputs": [],
   "source": [
    "// Use orderBy() to sort by day of week\n",
    "pageviewsByDayOfWeekDF.orderBy(\"Day_of_week\")"
   ]
  },
  {
   "cell_type": "markdown",
   "metadata": {
    "id": "B1F5690F92C942758BE2AD86F1B48969"
   },
   "source": [
    "Hmm, the ordering of the days of the week is off, because the orderBy() operation is ordering the days of the week alphabetically. Instead of that, let's start with Monday and end with Sunday. To accomplish this, we'll write a short User Defined Function (UDF) to prepend each Day of week with a number."
   ]
  },
  {
   "cell_type": "markdown",
   "metadata": {
    "id": "99689D9436044EEA90C5FB87A463B527"
   },
   "source": [
    "### User Defined Functions (UDFs)"
   ]
  },
  {
   "cell_type": "markdown",
   "metadata": {
    "id": "FB94255540094A719669C3AF7C46D589"
   },
   "source": [
    "A UDF lets you code your own logic for processing column values during a DataFrame query."
   ]
  },
  {
   "cell_type": "code",
   "execution_count": null,
   "metadata": {
    "trusted": true,
    "input_collapsed": false,
    "collapsed": false,
    "id": "59179C3B72A54DCE9B543D46F23C63F4"
   },
   "outputs": [],
   "source": [
    "def matchDayOfTheWeek(day: String): String = {\n",
    "    val matchDayOfWeek = Map(\"Mon\"-> \"1-Mon\", \"Tue\"-> \"2-Tue\", \"Wed\"-> \"3-Wed\", \"Thu\"-> \"4-Thu\", \"Fri\"->\"5-Fri\", \"Sat\"-> \"6-Sat\", \"Sun\"-> \"7-Sun\")\n",
    "    if (!matchDayOfWeek.contains(day))\n",
    "        return \"UNKNOWN\"\n",
    "    return matchDayOfWeek(day)\n",
    "}"
   ]
  },
  {
   "cell_type": "markdown",
   "metadata": {
    "id": "D35CBE33E289466B8CD51C99D63AEB7D"
   },
   "source": [
    "Test it:"
   ]
  },
  {
   "cell_type": "code",
   "execution_count": null,
   "metadata": {
    "trusted": true,
    "input_collapsed": false,
    "collapsed": false,
    "id": "D2CDDAC6CC1A4A5B87E78BF7D4A53CAF"
   },
   "outputs": [],
   "source": [
    "matchDayOfTheWeek(\"Tue\")"
   ]
  },
  {
   "cell_type": "markdown",
   "metadata": {
    "id": "7591586CD02D4A27A2C9197C4594916D"
   },
   "source": [
    "Great, it works! Now define a UDF named prependNumber:"
   ]
  },
  {
   "cell_type": "code",
   "execution_count": null,
   "metadata": {
    "trusted": true,
    "input_collapsed": false,
    "collapsed": false,
    "id": "F3B924CEDA1848728E68CF0167747140"
   },
   "outputs": [],
   "source": [
    "sparkSession.udf.register(\"prependNumber\", matchDayOfTheWeek(_: String))\n",
    "val prependNumberUDF = udf(matchDayOfTheWeek(_: String))"
   ]
  },
  {
   "cell_type": "markdown",
   "metadata": {
    "id": "7349DF9501744C838D929A0979F10BDD"
   },
   "source": [
    "Test the UDF to prepend the Day of Week column in the DataFrame with a number:"
   ]
  },
  {
   "cell_type": "code",
   "execution_count": null,
   "metadata": {
    "trusted": true,
    "input_collapsed": false,
    "collapsed": false,
    "id": "ED6A704880AC44818D8B1EB3A9F83E78"
   },
   "outputs": [],
   "source": [
    "pageviewsByDayOfWeekDF.select(prependNumberUDF($\"Day_of_week\")).limit(10)"
   ]
  },
  {
   "cell_type": "markdown",
   "metadata": {
    "id": "C84E26F97CB147A09C97C0D3703B1580"
   },
   "source": [
    "Our UDF looks like it's working. Next, let's apply the UDF and also order the x axis from Mon -> Sun:"
   ]
  },
  {
   "cell_type": "code",
   "execution_count": null,
   "metadata": {
    "trusted": true,
    "input_collapsed": false,
    "collapsed": false,
    "id": "0379F2E45B2F4537991C1019E3050EE4"
   },
   "outputs": [],
   "source": [
    "pageviewsByDayOfWeekDF.withColumnRenamed(\"sum(requests)\", \"total requests\")\n",
    "  .select(prependNumberUDF($\"Day_of_week\"), $\"total requests\")\n",
    "  .orderBy(\"UDF(Day_of_week)\")"
   ]
  },
  {
   "cell_type": "markdown",
   "metadata": {
    "id": "3E84198169984F59809CEF3059B9CC3D"
   },
   "source": [
    "Lets do the same thing with SQL. Here our human-readable name comes in handy"
   ]
  },
  {
   "cell_type": "code",
   "execution_count": null,
   "metadata": {
    "trusted": true,
    "input_collapsed": false,
    "collapsed": false,
    "id": "E5F6742756FE48FF8BFBA2647A6F869E"
   },
   "outputs": [],
   "source": [
    "pageviewsByDayOfWeekDF.createOrReplaceTempView(\"pageviewsByDayOfWeek\")\n",
    "sparkSession.sql(\"select prependNumber(Day_of_week), * from pageviewsByDayOfWeek order by prependNumber(Day_of_week)\")"
   ]
  },
  {
   "cell_type": "markdown",
   "metadata": {
    "id": "36EBCEB98D8B434C9EF945BD0971EDD2"
   },
   "source": [
    "Wikipedia seems to get significantly more traffic on Mondays than other days of the week. Hmm..."
   ]
  },
  {
   "cell_type": "markdown",
   "metadata": {
    "id": "F107786B0B22457584433F4DDF2AB3CB"
   },
   "source": [
    "### Can you visualize both the mobile and desktop site requests in a line chart to compare traffic between both sites by day of the week?"
   ]
  },
  {
   "cell_type": "markdown",
   "metadata": {
    "id": "892DA9FF5E7C4F5CAE6394552B96AF53"
   },
   "source": [
    "First, sum by DOW for each site (mobile/desktop)"
   ]
  },
  {
   "cell_type": "code",
   "execution_count": null,
   "metadata": {
    "trusted": true,
    "input_collapsed": false,
    "collapsed": false,
    "id": "AEE82B8630824ECD80DF659ABBB3ED22"
   },
   "outputs": [],
   "source": [
    "val viewsByDayOfWeekDF = pageviewsTimestampDF\n",
    "  .groupBy(date_format(($\"timestamp\"), \"E\").alias(\"Day of week\"), $\"site\")\n",
    "  .sum().withColumnRenamed(\"sum(requests)\", \"total requests\")\n",
    "  .select(prependNumberUDF($\"Day of week\"), $\"site\", $\"total requests\")\n",
    "  .orderBy(\"UDF(Day of week)\")\n",
    "  .toDF(\"DOW\", \"site\", \"total_requests\")\n",
    "\n",
    "viewsByDayOfWeekDF"
   ]
  },
  {
   "cell_type": "markdown",
   "metadata": {
    "id": "7C6E7095F03F48569FD29B80378AFADC"
   },
   "source": [
    "Now, graph the mobile site requests:"
   ]
  },
  {
   "cell_type": "code",
   "execution_count": null,
   "metadata": {
    "trusted": true,
    "input_collapsed": false,
    "collapsed": false,
    "id": "0A9EAFD2014C40A68B6F36F11594833E"
   },
   "outputs": [],
   "source": [
    "val mobileViewsByDayOfWeekDF = viewsByDayOfWeekDF.filter(\"site = 'mobile'\")\n",
    "  .select($\"DOW\", $\"total_requests\")\n",
    "  .orderBy($\"DOW\")\n",
    "  .toDF(\"DOW\", \"mobile_requests\")\n",
    "\n",
    "// Cache this DataFrame\n",
    "mobileViewsByDayOfWeekDF.cache()\n",
    "\n",
    "mobileViewsByDayOfWeekDF"
   ]
  },
  {
   "cell_type": "markdown",
   "metadata": {
    "id": "51C94CB0C9F44F3A96C4BE31783F2FA4"
   },
   "source": [
    "For the visualization part we will use Graphical Widgets"
   ]
  },
  {
   "cell_type": "code",
   "execution_count": null,
   "metadata": {
    "trusted": true,
    "input_collapsed": false,
    "collapsed": false,
    "id": "9FEB230499EE4D6FA04ACD964A085101"
   },
   "outputs": [],
   "source": [
    "BarChart(mobileViewsByDayOfWeekDF, fields=Some((\"DOW\", \"mobile_requests\")))"
   ]
  },
  {
   "cell_type": "markdown",
   "metadata": {
    "id": "3566307B81E743E980A6EE4091730F60"
   },
   "source": [
    "Now, we are ready to plot our mobile requests\nNext, graph the desktop site requests"
   ]
  },
  {
   "cell_type": "code",
   "execution_count": null,
   "metadata": {
    "trusted": true,
    "input_collapsed": false,
    "collapsed": false,
    "id": "AC65BE53366440E79CD4EEC79462A8EF"
   },
   "outputs": [],
   "source": [
    "val desktopViewsByDayOfWeekDF = viewsByDayOfWeekDF.filter(\"site = 'desktop'\")\n",
    ".select($\"DOW\", $\"total_requests\")\n",
    "  .orderBy($\"DOW\")\n",
    "  .toDF(\"DOW\", \"desktop_requests\")\n",
    "\n",
    "// Cache this DataFrame\n",
    "desktopViewsByDayOfWeekDF.cache()\n",
    "\n",
    "desktopViewsByDayOfWeekDF"
   ]
  },
  {
   "cell_type": "code",
   "execution_count": null,
   "metadata": {
    "trusted": true,
    "input_collapsed": false,
    "collapsed": false,
    "id": "6B0752F2232E49B3BC879793D33397DC"
   },
   "outputs": [],
   "source": [
    "BarChart(desktopViewsByDayOfWeekDF, fields=Some((\"DOW\", \"desktop_requests\")))"
   ]
  },
  {
   "cell_type": "markdown",
   "metadata": {
    "id": "095A3D76B476429C8B39DA4AB3C7CFB7"
   },
   "source": [
    "Now that we have two DataFrames (one for mobile views by day of week and another for desktop views), let's join both of them to create one line chart to visualize mobile vs. desktop page views:"
   ]
  },
  {
   "cell_type": "code",
   "execution_count": null,
   "metadata": {
    "trusted": true,
    "input_collapsed": false,
    "collapsed": false,
    "id": "1DBCC61EE5AA4D4887E363199C20985B"
   },
   "outputs": [],
   "source": [
    "val allTogetherNowDF = mobileViewsByDayOfWeekDF.join(desktopViewsByDayOfWeekDF, \"DOW\")\n",
    "allTogetherNowDF"
   ]
  },
  {
   "cell_type": "code",
   "execution_count": null,
   "metadata": {
    "trusted": true,
    "input_collapsed": false,
    "collapsed": false,
    "id": "7F9941BAA9254A338EBD24B585949A29"
   },
   "outputs": [],
   "source": [
    "BarChart(viewsByDayOfWeekDF, fields=Some((\"DOW\", \"total_requests\")), groupField=Some(\"site\"))"
   ]
  },
  {
   "cell_type": "markdown",
   "metadata": {
    "id": "42DB7B577A58410C94D264FED8629B54"
   },
   "source": [
    "### Why is there so much more traffic on Monday vs. other days of the week?"
   ]
  },
  {
   "cell_type": "markdown",
   "metadata": {
    "id": "D39405286A4A4E0A9C3E9911F84079C1"
   },
   "source": [
    "***Challenge:*** Can you figure out exactly why there was so much more traffic on Mondays?"
   ]
  },
  {
   "cell_type": "code",
   "execution_count": null,
   "metadata": {
    "trusted": true,
    "input_collapsed": false,
    "collapsed": true,
    "id": "BCC022310A954D5F9F4F4D5217946610"
   },
   "outputs": [],
   "source": [
    "// Type in your answer here..."
   ]
  },
  {
   "cell_type": "code",
   "execution_count": null,
   "metadata": {
    "trusted": true,
    "input_collapsed": false,
    "collapsed": true,
    "id": "A14194A430234924934E10ED161D27A7"
   },
   "outputs": [],
   "source": [
    "// first, check how many request per each day of year\n",
    "// we see that one day have much more requests then the rest\n",
    "// why does it have so many requests?\n",
    "// what day of the year is the 110th day?\n",
    "// its a monday :) so we are getting close\n",
    "// it seems that this spesific day has duplicated data\n",
    "// so monday didnt really have a spike!\n",
    "\n",
    "// btw, the dip on sunday is becouse we have less sundays in the dataset :)"
   ]
  }
 ],
 "metadata": {
  "id": "590fc5b9-bfb5-4fb6-b6f0-7fb478976592",
  "name": "wiki-pageviews",
  "user_save_timestamp": "1970-01-01T00:00:00.000Z",
  "auto_save_timestamp": "1970-01-01T00:00:00.000Z",
  "language_info": {
   "name": "scala",
   "file_extension": "scala",
   "codemirror_mode": "text/x-scala"
  },
  "trusted": true,
  "sparkNotebook": null,
  "customLocalRepo": null,
  "customRepos": null,
  "customDeps": null,
  "customImports": null,
  "customArgs": null,
  "customSparkConf": null,
  "customVars": null
 },
 "nbformat": 4,
 "nbformat_minor": 0
}